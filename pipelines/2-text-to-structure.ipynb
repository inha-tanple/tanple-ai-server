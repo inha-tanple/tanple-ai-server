{
 "cells": [
  {
   "cell_type": "markdown",
   "metadata": {},
   "source": [
    "# 2. Text -> Structured Dict 변환\n",
    "- 비정형 텍스트를 정형 데이터로 변환합니다. \n",
    "- langchain과 LLM API를 사용합니다. "
   ]
  },
  {
   "cell_type": "code",
   "execution_count": null,
   "metadata": {},
   "outputs": [],
   "source": [
    "# Expected Input\n",
    "input_text = \"\"\"\n",
    "BUSAN CITY HALL PARKI\n",
    "RECEIPT\n",
    "1478\n",
    "PERSONELL\n",
    "14\n",
    "CASH\n",
    "IN\n",
    "98.02.20\n",
    "11:54\n",
    "P.AT\n",
    "98.02.20\n",
    "\"\"\"\n",
    "\n",
    "# Expected Output\n",
    "output_dict = {\n",
    "    \"name\": \"BUSAN CITY HALL PARKI\",\n",
    "    \"date\": \"2024-05-11 15:48:00\",\n",
    "    \"price\": 1478,\n",
    "}\n",
    "\n",
    "\n",
    "# 구현부\n",
    "def text_to_structure(text: str) -> dict: ..."
   ]
  },
  {
   "cell_type": "code",
   "execution_count": null,
   "metadata": {},
   "outputs": [],
   "source": [
    "# requirements 를 적어주세요\n",
    "%pip install langchain"
   ]
  }
 ],
 "metadata": {
  "language_info": {
   "name": "python"
  }
 },
 "nbformat": 4,
 "nbformat_minor": 2
}
