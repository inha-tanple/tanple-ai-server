{
 "cells": [
  {
   "cell_type": "markdown",
   "metadata": {},
   "source": [
    "# 1. Image -> Text 변환\n",
    "- 이미지를 텍스트로 변환합니다. \n",
    "- paddle OCR 모델을 사용합니다. \n",
    "\n",
    "## Input\n",
    "```python\n",
    "input_url = \"./asset/image.png\"\n",
    "# 또는 이미지 bite-string 형태... (전 잘 모름 ㅎㅎ)\n",
    "```\n",
    "\n",
    "## Output\n",
    "```python\n",
    "output_text = \"./asset/image.png\"\n",
    "```\n",
    "\n",
    "## 함수\n",
    "```python\n",
    "def image_to_text(url: str) -> str: ...\n",
    "```\n"
   ]
  },
  {
   "cell_type": "code",
   "execution_count": null,
   "metadata": {},
   "outputs": [],
   "source": [
    "# requirements 를 적어주세요!\n",
    "%pip install "
   ]
  },
  {
   "cell_type": "code",
   "execution_count": null,
   "metadata": {},
   "outputs": [],
   "source": [
    "def image_to_text(url: str) -> str:\n",
    "\n",
    "\n",
    "    return \"\""
   ]
  }
 ],
 "metadata": {
  "language_info": {
   "name": "python"
  }
 },
 "nbformat": 4,
 "nbformat_minor": 2
}
