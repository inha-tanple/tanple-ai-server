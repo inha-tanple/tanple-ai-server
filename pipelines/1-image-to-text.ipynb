{
 "cells": [
  {
   "cell_type": "markdown",
   "metadata": {},
   "source": [
    "# 1. Image -> Text 변환\n",
    "- 이미지를 텍스트로 변환합니다. \n",
    "- paddle OCR 모델을 사용합니다. "
   ]
  },
  {
   "cell_type": "code",
   "execution_count": null,
   "metadata": {},
   "outputs": [],
   "source": [
    "#  Expected Input\n",
    "input_url = \"./asset/image.png\"\n",
    "# 또는 이미지 bite-string 형태... (전 잘 모름 ㅎㅎ)\n",
    "\n",
    "# Expected Output\n",
    "output_text = \"\"\"\n",
    "BUSAN CITY HALL PARKI\n",
    "RECEIPT\n",
    "1478\n",
    "PERSONELL\n",
    "14\n",
    "CASH\n",
    "IN\n",
    "98.02.20\n",
    "11:54\n",
    "P.AT\n",
    "98.02.20\n",
    "\"\"\"\n",
    "\n",
    "# 구현부\n",
    "def image_to_text(url: str) -> str: ..."
   ]
  },
  {
   "cell_type": "code",
   "execution_count": null,
   "metadata": {},
   "outputs": [],
   "source": [
    "# requirements 를 적어주세요\n",
    "%pip install "
   ]
  }
 ],
 "metadata": {
  "language_info": {
   "name": "python"
  }
 },
 "nbformat": 4,
 "nbformat_minor": 2
}
